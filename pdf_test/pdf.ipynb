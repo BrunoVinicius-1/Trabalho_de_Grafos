{
 "cells": [
  {
   "cell_type": "code",
   "execution_count": 83,
   "metadata": {},
   "outputs": [],
   "source": [
    "import re\n",
    "from pypdf import PdfReader"
   ]
  },
  {
   "cell_type": "code",
   "execution_count": 84,
   "metadata": {},
   "outputs": [],
   "source": [
    "# colocar o seu histórico nesta pasta e trocar o nome na variavel\n",
    "historico_pdf = \"historico_2022004860.pdf\"\n",
    "historico_texto = \"historico_texto.txt\"\n",
    "historico_tratado = \"historico_tratado.txt\""
   ]
  },
  {
   "cell_type": "code",
   "execution_count": 85,
   "metadata": {},
   "outputs": [],
   "source": [
    "reader = PdfReader(historico_pdf)\n",
    "number_of_pages = len(reader.pages)\n",
    "page = reader.pages[1]\n",
    "text = page.extract_text()\n",
    "with open(historico_texto, \"w\") as f:\n",
    "    for i in range(0, number_of_pages):\n",
    "        page = reader.pages[i]\n",
    "        text = page.extract_text()\n",
    "        f.write(text)\n",
    "    f.close()"
   ]
  },
  {
   "cell_type": "code",
   "execution_count": 88,
   "metadata": {},
   "outputs": [
    {
     "name": "stdout",
     "output_type": "stream",
     "text": [
      "['--', 'CUMP', 'MAT00A', '64', '100,0', '--', '64', '--\\n']\n",
      "['02', 'APR', 'IEPG01', '48', '93,0', '8.0', '48', '7.6Dra.', 'ANDREA', 'APARECIDA', 'DA', 'COSTA', 'MINEIRO', '(48h)\\n']\n",
      "['01', 'APR', 'IEPG22', '32', '87,0', '9.5', '32', '9.0Dr.', 'PAULO', 'HENRIQUE', 'DA', 'SILVA', 'CAMPOS', '(32h)\\n']\n",
      "['03', 'TRANC', 'MAT00A', '64', '100,0', '--', '64', '--MATHEUS', 'NATANAEL', 'CASSIANO', '(40h),', 'Dr.', 'FERNANDO', 'PEREIRA', 'MICENA', '(24h)\\n']\n",
      "['01', 'APR', 'SAHC04', '32', '100,0', '8.2', '32', '8.1Dra.', 'VANESSA', 'CRISTINA', 'OLIVEIRA', 'DE', 'SOUZA', '(32h)\\n']\n",
      "['01', 'APR', 'SAHC05', '64', '100,0', '8.0', '64', '6.8Dra.', 'LINA', 'MARIA', 'GARCES', 'RODRIGUEZ', '(64h)\\n']\n",
      "['02', 'APR', 'XDES01', '64', '100,0', '9.9', '64', '9.7Dra.', 'ELISA', 'DE', 'CASSIA', 'SILVA', 'RODRIGUES', '(64h)\\n']\n",
      "['04', 'APR', 'ECN001', '48', '100,0', '6.9', '48', '6.8Dr.', 'VICTOR', 'EDUARDO', 'DE', 'MELLO', 'VALERIO', '(48h)\\n']\n",
      "['02', 'APR', 'IEPG04', '32', '93,0', '7.2', '32', '5.8Dr.', 'FABIANO', 'LEAL', '(32h)\\n']\n",
      "['02', 'APR', 'IEPG10', '48', '100,0', '8.6', '48', '8.3Dr.', 'JOSE', 'ARNALDO', 'BARRA', 'MONTEVECHI', '(48h)\\n']\n",
      "['01', 'APR', 'STCO01', '64', '100,0', '9.3', '64', '8.5Dr.', 'PEDRO', 'HENRIQUE', 'DEL', 'BIANCO', 'HOKAMA', '(64h)\\n']\n",
      "['01', 'APR', 'XDES02', '64', '100,0', '9.1', '64', '8.2Dr.', 'LAERCIO', 'AUGUSTO', 'BALDOCHI', 'JUNIOR', '(64h)\\n']\n",
      "['01', 'APR', 'XDES04', '64', '93,0', '6.9', '64', '6.6Dr.', 'JOAO', 'BOSCO', 'SCHUMAM', 'CUNHA', '(64h)\\n']\n",
      "['01', 'APR', 'XMAC01', '64', '100,0', '7.1', '64', '6.4Dr.', 'ROBERTO', 'CLAUDINO', 'DA', 'SILVA', '(64h)\\n']\n",
      "['01', 'APR', 'SDES05', '64', '90,0', '9.4', '64', '9.4Dr.', 'JOAO', 'BOSCO', 'SCHUMAM', 'CUNHA', '(64h)\\n']\n",
      "['01', 'APR', 'SRSC03', '64', '100,0', '8.9', '64', '7.8Dr.', 'LUIZ', 'OLMES', 'CARVALHO', '(64h)\\n']\n",
      "['01', 'APR', 'STCO02', '64', '100,0', '10.0', '64', '9.9Dr.', 'PEDRO', 'HENRIQUE', 'DEL', 'BIANCO', 'HOKAMA', '(64h)\\n']\n",
      "['01', 'APR', 'XDES03', '64', '96,0', '8.4', '64', '7.4Dr.', 'PHYLLIPE', 'DE', 'SOUZA', 'LIMA', 'FRANCISCO', '(64h)\\n']\n",
      "['01', 'MATR', 'IEPG14', '32', '100,0', '--', '32', '--Dra.', 'JANE', 'KELLY', 'DANTAS', 'BARBOSA', '(32h)\\n']\n",
      "['01', 'MATR', 'SMAC03', '64', '100,0', '--', '64', '--Dr.', 'RAFAEL', 'DE', 'MAGALHAES', 'DIAS', 'FRINHANI', '(64h)\\n']\n",
      "['01', 'MATR', 'SRSC02', '64', '100,0', '--', '64', '--MSc.', 'CARLOS', 'MINORU', 'TAMAKI', '(64h)\\n']\n",
      "['01', 'MATR', 'XMAC02', '64', '100,0', '--', '64', '--Dr.', 'LAERCIO', 'AUGUSTO', 'BALDOCHI', 'JUNIOR', '(64h)\\n']\n",
      "['01', 'MATR', 'XPAD01', '64', '100,0', '--', '64', '--Dra.', 'MELISE', 'MARIA', 'VEIGA', 'DE', 'PAULA', '(64h)\\n']\n",
      "4\n",
      "\n"
     ]
    },
    {
     "data": {
      "text/plain": [
       "[['CUMP', 'MAT00A', '64', '--'],\n",
       " ['APR', 'IEPG01', '48', '8.0'],\n",
       " ['APR', 'IEPG22', '32', '9.5'],\n",
       " ['TRANC', 'MAT00A', '64', '--'],\n",
       " ['APR', 'SAHC04', '32', '8.2'],\n",
       " ['APR', 'SAHC05', '64', '8.0'],\n",
       " ['APR', 'XDES01', '64', '9.9'],\n",
       " ['APR', 'ECN001', '48', '6.9'],\n",
       " ['APR', 'IEPG04', '32', '7.2'],\n",
       " ['APR', 'IEPG10', '48', '8.6'],\n",
       " ['APR', 'STCO01', '64', '9.3'],\n",
       " ['APR', 'XDES02', '64', '9.1'],\n",
       " ['APR', 'XDES04', '64', '6.9'],\n",
       " ['APR', 'XMAC01', '64', '7.1'],\n",
       " ['APR', 'SDES05', '64', '9.4'],\n",
       " ['APR', 'SRSC03', '64', '8.9'],\n",
       " ['APR', 'STCO02', '64', '10.0'],\n",
       " ['APR', 'XDES03', '64', '8.4'],\n",
       " ['MATR', 'IEPG14', '32', '--'],\n",
       " ['MATR', 'SMAC03', '64', '--'],\n",
       " ['MATR', 'SRSC02', '64', '--'],\n",
       " ['MATR', 'XMAC02', '64', '--'],\n",
       " ['MATR', 'XPAD01', '64', '--']]"
      ]
     },
     "execution_count": 88,
     "metadata": {},
     "output_type": "execute_result"
    }
   ],
   "source": [
    "text_file = open(historico_tratado, \"w\")\n",
    "# pattern declara o REGEX a ser procurado no texto\n",
    "pattern = r\"APR|APRN|CANC|MATR|REC|REPF|REPMF|REPN|REPNF|TRANC|TRANS|INCORP|CUMP\"\n",
    "open_file = open(historico_texto, \"r\")\n",
    "texto = []\n",
    "# le linha por linha e insere na lista \"texto\"\n",
    "for line in open_file:\n",
    "    if re.search(pattern, line):\n",
    "        text_file.write(line)\n",
    "        texto.append(line.split(\" \"))\n",
    "text_file.close()\n",
    "open_file.close()\n",
    "# print(\n",
    "#     \"Situação\".upper()\n",
    "#     + \"\\t|\\t\\t\"\n",
    "#     + \"Codigo\".upper()\n",
    "#     + \"\\t\\t\\t|\\t\"\n",
    "#     + \"Carga Horaria\".upper()\n",
    "#     + \"\\t\\t|\\t\"\n",
    "#     + \"Frequencia\".upper()\n",
    "#     + \"\\t|\\t\\t\"\n",
    "#     + \"Nota\".upper()\n",
    "# )\n",
    "materias_aluno = []\n",
    "# nao pega as ultimas treze linhas do texto pq é a parte que explica o que é cada situação de matéria, possivelmente vai ter q ajustar para fazer a limpeza dos outros\n",
    "for i in range(len(texto) - 13):\n",
    "    print(texto[i])\n",
    "    # print(\n",
    "    #     texto[i][1]\n",
    "    #     + \"\\t\\t|\\t\\t\"\n",
    "    #     + texto[i][2]\n",
    "    #     + \"\\t\\t\\t|\\t\\t\"\n",
    "    #     + texto[i][3]\n",
    "    #     + \" \\t\\t|\\t\"\n",
    "    #     + texto[i][4]\n",
    "    #     + \"\\t\\t|\\t\\t\"\n",
    "    #     + texto[i][5]\n",
    "    # )\n",
    "    materias_aluno.append([texto[i][1], texto[i][2], texto[i][3], texto[i][5]])\n",
    "\n",
    "text_file = open(\"historico_semestre.txt\", \"w\")\n",
    "open_file = open(historico_texto, \"r\")\n",
    "pattern_semestre = r\"\\d\\n\"\n",
    "texto = []\n",
    "# le linha por linha e insere na lista \"texto\"\n",
    "for line in open_file:\n",
    "    if re.search(pattern_semestre, line):\n",
    "        text_file.write(line)\n",
    "        # print(line)\n",
    "        texto.append(line)\n",
    "text_file.close()\n",
    "semestre = texto[3]\n",
    "print(semestre)\n",
    "\n",
    "materias_aluno"
   ]
  },
  {
   "cell_type": "markdown",
   "metadata": {},
   "source": [
    "---\n",
    "## MC"
   ]
  },
  {
   "cell_type": "code",
   "execution_count": 95,
   "metadata": {},
   "outputs": [
    {
     "name": "stdout",
     "output_type": "stream",
     "text": [
      "8.5145\n"
     ]
    }
   ],
   "source": [
    "# DEU CERTO\n",
    "soma_nota_carga = 0\n",
    "soma_carga = 0\n",
    "for materia in materias_aluno:\n",
    "    if materia[3] != \"--\" and materia[0] == \"APR\":\n",
    "        soma_nota_carga += float(materia[2]) * float(materia[3])\n",
    "        soma_carga += float(materia[2])\n",
    "print(round(soma_nota_carga / soma_carga, 4))"
   ]
  },
  {
   "cell_type": "markdown",
   "metadata": {},
   "source": [
    "---\n",
    "## IECH"
   ]
  },
  {
   "cell_type": "code",
   "execution_count": 103,
   "metadata": {},
   "outputs": [
    {
     "name": "stdout",
     "output_type": "stream",
     "text": [
      "0.9322\n"
     ]
    }
   ],
   "source": [
    "soma_carga = 0\n",
    "carga_total = 0\n",
    "materias_aprovadas = [\"APR\", \"APRN\"]\n",
    "materia_reprovadas = [\"REP\", \"REPF\", \"REPMF\", \"REPN\", \"REPNF\", \"TRANC\"]\n",
    "for materia in materias_aluno:\n",
    "    if materia[0] in materias_aprovadas:\n",
    "        soma_carga += int(materia[2])\n",
    "    if materia[0] in materias_aprovadas or materia[0] in materia_reprovadas:\n",
    "        carga_total += int(materia[2])\n",
    "# print(soma_carga)\n",
    "# print(carga_total)\n",
    "print(round(soma_carga / carga_total, 4))"
   ]
  },
  {
   "cell_type": "markdown",
   "metadata": {},
   "source": [
    "---\n",
    "## IEPL"
   ]
  },
  {
   "cell_type": "code",
   "execution_count": 105,
   "metadata": {},
   "outputs": [
    {
     "data": {
      "text/plain": [
       "1296"
      ]
     },
     "execution_count": 105,
     "metadata": {},
     "output_type": "execute_result"
    }
   ],
   "source": [
    "na = 0\n",
    "for materia in materias_aluno:\n",
    "    if materia[0] != \"CUMP\" or materia[0] != \"MATR\":\n",
    "        na += int(materia[2])\n",
    "na"
   ]
  },
  {
   "cell_type": "markdown",
   "metadata": {},
   "source": [
    "| ABREVIAÇÃO | SIGNIFICADO | SITUAÇÃO \n",
    "| -- | -- | -- |\n",
    "|APR| Aprovado por média| Aluno aprovado com média maior ou igual a 6,0.|\n",
    "|APRN| Aprovado por nota mínima| Aluno com média entre 6,0 e 6,0 e nota mínima superior a 0,0 após a substituição.|\n",
    "|CANC| Cancelado| Matrícula em turma cancelada.|\n",
    "|DISP| Dispensado| Aproveitou o componente e foi dispensado.|\n",
    "|MATR| Matriculado| Matriculado na turma.|\n",
    "| REC |  Em recuperação | Aluno que fará reposição.|\n",
    "|REP|Reprovado por média|Aluno com média inferior a 6,0.|\n",
    "|REPF| Reprovado por falta| Reprovado por não atender os critérios de assiduidade.|\n",
    "|REPMF| Reprovado por média e falta| Aluno com média inferior a 6,0 além de não atender aos critérios de assiduidade.|\n",
    "|REPN| Reprovado por nota mínima| Aluno com média entre 6,0 e 6,0 e nota mínima inferior a 0,0 após a substituição.|\n",
    "|REPNF| Reprovado por nota e falta|Aluno com média entre 6,0 e 6,0 e nota mínima inferior a 0,0 após a substituição além de não atender aos critérios de assiduidade.|\n",
    "|TRANC| Trancado| Matrícula em turma trancada.|\n",
    "|TRANS| Transferido| Fez o componente em outra instituição e aproveitou na Instituição.|\n",
    "|INCORP| Incorporado| Fez o componente durante mobilidade estudantil.|\n",
    "|CUMP| Cumpriu| Fez o componente na UNIFEI em outro curso anterior e aproveitou no curso atual.|"
   ]
  },
  {
   "cell_type": "markdown",
   "metadata": {},
   "source": [
    "| INDICE | EXPLICAÇÃO|\n",
    "| -- | -- |\n",
    "| MC |A Média de Conclusão (MC) é a media do rendimento escolar final obtido pelo aluno nos componentes curriculares em que obteve êxito, ponderadas pela carga horária discente dos componentes.|\n",
    "|IRA| \tO Índice de Rendimento Acadêmico (IRA) é a média do rendimento escolar final obtido pelo aluno nos componentes curriculares que concluiu, ponderadas pela carga horária discente dos componentes.|\n",
    "|IECH| \tO Índice de Eficiência em Carga Horária (IECH) é divisão da carga horária com aprovação pela carga horária utilizada.|\n",
    "|IEPL| \tO Índice de Eficiência em Períodos Letivos (IEPL) é divisão da carga horária acumulada pela carga horária esperada.|\n",
    "|IEA| \tO Índice de Eficiência Acadêmica (IEA) é o produto da MC pelo IECH e pelo IEPL.|\n",
    "|IECHS| \tO Índice de Eficiência em Carga Horária Semestral (IECHs) é o percentual da carga horária utilizada pelo discente que se converteu em aprovação no semestre anterior.|"
   ]
  },
  {
   "cell_type": "markdown",
   "metadata": {},
   "source": [
    "**Índice de Eficiência em Carga Horária (IECH):** \\\n",
    "visa indicar o percentual da carga horária dos componentes curriculares em que o discente consegue aprovação. Esse índice é usado para definir a carga horária máxima em que um discente pode se matricular; \\\n",
    "\n",
    "**Índice de Eficiência em Períodos Letivos (IEPL):** \\\n",
    "visa indicar o percentual da carga realizada pela carga esperada de um discente nos períodos do seu curso. Desta forma, mostra se o discente está em fase ou atrasado em relação ao tempo mínimo de conclusão do curso;\n",
    "\n",
    "**Índice de Eficiência Acadêmica (IEA):** \\\n",
    "índice global de eficiência do discente, formado pela multiplicação dos índices anteriores. Usado como critério de prioridade, observado o disposto da norma, para a matrícula em componentes curriculares, o qual já estará vigente para o primeiro período de 2016. Esse índice também é usado para desligamento do discente, sendo que não será aplicado em 2015 e começará a contar a partir do primeiro período de 2016. Dessa maneira, só poderá acontecer o desligamento em 2017;\n",
    "\n",
    "**Índice de Eficiência Acadêmica Normalizado (IEAN) e Média de Conclusão Normalizado (MCN):** \\\n",
    "normalização do MC e do IEA, respectivamente, que compara a média do aluno com a média das médias dos concluintes do curso nos últimos cinco anos. Tem o objetivo de verificar os índices dos discentes com turmas do mesmo curso por um período histórico de cinco anos.\n"
   ]
  },
  {
   "cell_type": "markdown",
   "metadata": {},
   "source": [
    "---\n",
    "**Média de Conclusão (MC)** \\\n",
    "\n",
    "A Média de Conclusão (MC) é a média ponderada do rendimento escolar final nos componentes curriculares em que conseguiu êxito ao longo do curso, obtida pela seguinte fórmula: \\\n",
    "\n",
    "![image.png](formulaMC.png) \\\n",
    "\n",
    "Nessa fórmula, são contabilizados todos os Nx componentes curriculares concluídos com êxito, incluindo os aproveitamentos, onde ni é a nota (rendimento escolar) final obtida no i-ésimo componente curricular e ci é a carga horária discente do i-ésimo componente curricular. São excluídos do cálculo os componentes curriculares trancados, cancelados, reprovados e dispensados, as atividades complementares e os componentes curriculares cujo rendimento escolar não é expresso de forma numérica."
   ]
  },
  {
   "cell_type": "markdown",
   "metadata": {},
   "source": [
    "---\n",
    "**Média de Conclusão Normalizada (MCN)**\n",
    " \n",
    "\n",
    "A Média de Conclusão Normalizada (MCN) é a MC do aluno normalizada em relação à média (μ) e desvio padrão amostral (σ) das MCs dos concluintes da mesma modalidade do curso, obtida pela seguinte fórmula:\n",
    "\n",
    "![image.png](formulaMCN1.png) \\\n",
    "Nessa fórmula, MC é a Média de Conclusão do aluno para o qual está sendo calculada a MCN. A média (μ) e desvio padrão amostral (σ) são calculados pela seguinte fórmula:\n",
    "![image.png](formulaMCN2.png) \\\n",
    "Nessas fórmulas, são contabilizados todos os M alunos que concluíram o mesmo curso/modalidade nos últimos 05 (cinco) anos, onde MCi é a Média de Conclusão final obtida pelo i-ésimo concluinte. São excluídos do cálculo os alunos que não concluíram com êxito o curso por qualquer motivo bem como aqueles que fizeram apenas apostilamento de habilitação ou certificação de ênfase."
   ]
  },
  {
   "cell_type": "markdown",
   "metadata": {},
   "source": [
    "---\n",
    "**Índice de Rendimento Acadêmico (IRA)**\n",
    " \n",
    "\n",
    "O Índice de Rendimento Acadêmico (IRA) é a média ponderada do rendimento escolar final obtido pelo aluno em todos os componentes curriculares que concluiu ao longo do curso, obtida pela seguinte fórmula:\n",
    "\n",
    "![image.png](formulaIRA.png) \n",
    "\n",
    "Nessa fórmula, são contabilizados todos os N componentes curriculares concluídos, seja com aprovação ou com reprovação por nota ou frequência, onde ni é a nota (rendimento escolar) final obtida no i-ésimo componente curricular e ci é a carga horária discente do i-ésimo componente curricular. São excluídos do cálculo os componentes curriculares trancados, cancelados e dispensados, as atividades complementares e os componentes curriculares cujo rendimento escolar não é expresso de forma numérica."
   ]
  },
  {
   "cell_type": "markdown",
   "metadata": {},
   "source": [
    "---\n",
    "**Índice de Eficiência em Carga Horária (IECH)**\n",
    " \n",
    "\n",
    "O Índice de Eficiência em Carga Horária (IECH) é o percentual da carga horária utilizada pelo aluno que se converteu em aprovação, obtido pela seguinte fórmula:\n",
    "\n",
    "![](formulaIECH.png)\n",
    "\n",
    "\n",
    "Nessa fórmula, são contabilizados no numerador todos os Np componentes curriculares em que o aluno obteve aprovação, excluindo-se os componentes curriculares trancados, cancelados, reprovados, aproveitados e dispensados, as atividades complementares, as atividades individuais e as atividades de orientação individual. São contabilizados no denominador todos os Nm componentes curriculares em que o aluno se matriculou, incluindo os trancamentos, reprovações e cancelamentos de matrícula e excluindo-se os componentes curriculares aproveitados e dispensados, as atividades complementares, as atividades individuais e as atividades de orientação individual. ci é a carga horária discente do i-ésimo componente curricular."
   ]
  },
  {
   "cell_type": "markdown",
   "metadata": {},
   "source": [
    "---\n",
    "**Índice de Eficiência em Períodos Letivos (IEPL)**\n",
    " \n",
    "\n",
    "O Índice de Eficiência em Períodos Letivos (IEPL) é divisão da carga horária acumulada pela carga horária esperada, obtida pela seguinte fórmula:\n",
    "\n",
    "![](formulaIEPL.png)\n",
    "\n",
    "\n",
    "Nessa fórmula, são contabilizados todos os Na componentes curriculares em que o aluno acumulou carga horária depois que ingressou no curso de graduação, excluindo-se os componentes curriculares aproveitados. ci é a carga horária discente do i-ésimo componente curricular. P é o número de períodos já cursados pelo aluno. CHM e PM são a carga horária mínima e o prazo médio, respectivamente, para integralização da estrutura curricular do aluno."
   ]
  },
  {
   "cell_type": "markdown",
   "metadata": {},
   "source": [
    "---\n",
    "**Índice de Eficiência Acadêmica (IEA)**\n",
    " \n",
    "\n",
    "O Índice de Eficiência Acadêmica (IEA) é o produto da MC pelo IECH e pelo IEPL, conforme a seguinte fórmula:\n",
    " \n",
    "\n",
    "IEA = MC × IECH × IEPL\n",
    " \n",
    "\n",
    "Índice de Eficiência Acadêmica Normalizado (IEAN)\n",
    " \n",
    "\n",
    "O Índice de Eficiência Acadêmica Normalizado (IEAN) é o produto da MCN pelo IECH e pelo IEPL, conforme a seguinte fórmula:\n",
    " \n",
    "\n",
    "IEAN = MCN × IECH × IEPL"
   ]
  }
 ],
 "metadata": {
  "kernelspec": {
   "display_name": "base",
   "language": "python",
   "name": "python3"
  },
  "language_info": {
   "codemirror_mode": {
    "name": "ipython",
    "version": 3
   },
   "file_extension": ".py",
   "mimetype": "text/x-python",
   "name": "python",
   "nbconvert_exporter": "python",
   "pygments_lexer": "ipython3",
   "version": "3.11.5"
  }
 },
 "nbformat": 4,
 "nbformat_minor": 2
}
