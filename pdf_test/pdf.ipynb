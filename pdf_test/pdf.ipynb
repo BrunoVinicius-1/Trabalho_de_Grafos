{
 "cells": [
  {
   "cell_type": "code",
   "execution_count": 1,
   "metadata": {},
   "outputs": [],
   "source": [
    "import re\n",
    "from pypdf import PdfReader"
   ]
  },
  {
   "cell_type": "code",
   "execution_count": null,
   "metadata": {},
   "outputs": [],
   "source": [
    "# colocar o seu histórico nesta pasta e trocar o nome na variavel\n",
    "historico_pdf = \"INSERIR O NOME DO SEU HISTORICO AQUI\"\n",
    "historico_texto = \"historico_texto.txt\"\n",
    "historico_tratado = \"historico_tratado.txt\""
   ]
  },
  {
   "cell_type": "code",
   "execution_count": 3,
   "metadata": {},
   "outputs": [
    {
     "ename": "AttributeError",
     "evalue": "'PdfReader' object has no attribute 'close'",
     "output_type": "error",
     "traceback": [
      "\u001b[1;31m---------------------------------------------------------------------------\u001b[0m",
      "\u001b[1;31mAttributeError\u001b[0m                            Traceback (most recent call last)",
      "\u001b[1;32mc:\\Users\\lucas\\Documents\\faculdade\\2023.2\\SMAC03_-_GRAFOS\\trabalho\\pdf_test\\pdf.ipynb Cell 3\u001b[0m line \u001b[0;36m1\n\u001b[0;32m      <a href='vscode-notebook-cell:/c%3A/Users/lucas/Documents/faculdade/2023.2/SMAC03_-_GRAFOS/trabalho/pdf_test/pdf.ipynb#W2sZmlsZQ%3D%3D?line=8'>9</a>\u001b[0m         f\u001b[39m.\u001b[39mwrite(text)\n\u001b[0;32m     <a href='vscode-notebook-cell:/c%3A/Users/lucas/Documents/faculdade/2023.2/SMAC03_-_GRAFOS/trabalho/pdf_test/pdf.ipynb#W2sZmlsZQ%3D%3D?line=9'>10</a>\u001b[0m     f\u001b[39m.\u001b[39mclose()\n\u001b[1;32m---> <a href='vscode-notebook-cell:/c%3A/Users/lucas/Documents/faculdade/2023.2/SMAC03_-_GRAFOS/trabalho/pdf_test/pdf.ipynb#W2sZmlsZQ%3D%3D?line=10'>11</a>\u001b[0m reader\u001b[39m.\u001b[39mclose()\n",
      "\u001b[1;31mAttributeError\u001b[0m: 'PdfReader' object has no attribute 'close'"
     ]
    }
   ],
   "source": [
    "reader = PdfReader(historico_pdf)\n",
    "number_of_pages = len(reader.pages)\n",
    "page = reader.pages[1]\n",
    "text = page.extract_text()\n",
    "with open(historico_texto, \"w\") as f:\n",
    "    for i in range(0, number_of_pages):\n",
    "        page = reader.pages[i]\n",
    "        text = page.extract_text()\n",
    "        f.write(text)\n",
    "    f.close()"
   ]
  },
  {
   "cell_type": "code",
   "execution_count": 5,
   "metadata": {},
   "outputs": [
    {
     "name": "stdout",
     "output_type": "stream",
     "text": [
      "SITUAÇÃO\t\t|\t\tCODIGO\t\t|\tCARGA HORARIA\t\t|\t\tFREQUENCIA\t|\t\tNOTA\n",
      "APR\t\t|\t\tFIS213\t\t\t|\t\t\t16 \t\t|\t\t100,0\t\t|\t\t9.0\n",
      "APR\t\t|\t\tQUI023\t\t\t|\t\t\t64 \t\t|\t\t100,0\t\t|\t\t9.8\n",
      "APR\t\t|\t\tQUI024\t\t\t|\t\t\t64 \t\t|\t\t100,0\t\t|\t\t8.9\n",
      "APR\t\t|\t\tQUI025\t\t\t|\t\t\t64 \t\t|\t\t100,0\t\t|\t\t9.0\n",
      "APR\t\t|\t\tQUI055\t\t\t|\t\t\t64 \t\t|\t\t100,0\t\t|\t\t9.3\n",
      "APR\t\t|\t\tMAT021\t\t\t|\t\t\t64 \t\t|\t\t100,0\t\t|\t\t7.4\n",
      "APR\t\t|\t\tQUI011\t\t\t|\t\t\t64 \t\t|\t\t100,0\t\t|\t\t9.9\n",
      "APR\t\t|\t\tQUI017\t\t\t|\t\t\t64 \t\t|\t\t100,0\t\t|\t\t9.4\n",
      "APR\t\t|\t\tQUI026\t\t\t|\t\t\t64 \t\t|\t\t100,0\t\t|\t\t9.0\n",
      "APR\t\t|\t\tQUI027\t\t\t|\t\t\t64 \t\t|\t\t100,0\t\t|\t\t10.0\n",
      "APR\t\t|\t\tQUI065\t\t\t|\t\t\t64 \t\t|\t\t100,0\t\t|\t\t8.4\n"
     ]
    }
   ],
   "source": [
    "text_file = open(historico_tratado, \"w\")\n",
    "# pattern declara o REGEX a ser procurado no texto\n",
    "pattern = \"APR\"\n",
    "open_file = open(historico_texto, \"r\")\n",
    "texto = []\n",
    "# le linha por linha e insere na lista \"texto\"\n",
    "for line in open_file:\n",
    "    if re.search(pattern, line):\n",
    "        text_file.write(line)\n",
    "        texto.append(line.split(\" \"))\n",
    "text_file.close()\n",
    "open_file.close()\n",
    "print(\"Situação\".upper() + \"\\t\\t|\\t\\t\" + \"Codigo\".upper() + \"\\t\\t|\\t\"+\"Carga Horaria\".upper() +\"\\t\\t|\\t\\t\"+ \"Frequencia\".upper() + \"\\t|\\t\\t\" + \"Nota\".upper())\n",
    "# nao pega as ultimas duas linhas do texto pq é a parte que explica o que é cada situação de matéria, possivelmente vai ter q ajustar para fazer a limpeza dos outros\n",
    "for i in range(len(texto)-2):\n",
    "    print(texto[i][1] + \"\\t\\t|\\t\\t\" + texto[i][2] +  \"\\t\\t\\t|\\t\\t\\t\" +texto[i][3] + \" \\t\\t|\\t\\t\" + texto[i][4] + \"\\t\\t|\\t\\t\" + texto[i][5])"
   ]
  },
  {
   "cell_type": "markdown",
   "metadata": {},
   "source": [
    "| ABREVIAÇÃO | SIGNIFICADO | SITUAÇÃO \n",
    "| -- | -- | -- |\n",
    "|APR| Aprovado por média| Aluno aprovado com média maior ou igual a 6,0.|\n",
    "|APRN| Aprovado por nota mínima| Aluno com média entre 6,0 e 6,0 e nota mínima superior a 0,0 após a substituição.|\n",
    "|CANC| Cancelado| Matrícula em turma cancelada.|\n",
    "|DISP| Dispensado| Aproveitou o componente e foi dispensado.|\n",
    "|MATR| Matriculado| Matriculado na turma.|\n",
    "| REC |  Em recuperação | Aluno que fará reposição.|\n",
    "|REP|Reprovado por média|Aluno com média inferior a 6,0.|\n",
    "|REPF| Reprovado por falta| Reprovado por não atender os critérios de assiduidade.|\n",
    "|REPMF| Reprovado por média e falta| Aluno com média inferior a 6,0 além de não atender aos critérios de assiduidade.|\n",
    "|REPN| Reprovado por nota mínima| Aluno com média entre 6,0 e 6,0 e nota mínima inferior a 0,0 após a substituição.|\n",
    "|REPNF| Reprovado por nota e falta|Aluno com média entre 6,0 e 6,0 e nota mínima inferior a 0,0 após a substituição além de não atender aos critérios de assiduidade.|\n",
    "|TRANC| Trancado| Matrícula em turma trancada.|\n",
    "|TRANS| Transferido| Fez o componente em outra instituição e aproveitou na Instituição.|\n",
    "|INCORP| Incorporado| Fez o componente durante mobilidade estudantil.|\n",
    "|CUMP| Cumpriu| Fez o componente na UNIFEI em outro curso anterior e aproveitou no curso atual.|"
   ]
  },
  {
   "cell_type": "markdown",
   "metadata": {},
   "source": [
    "| INDICE | EXPLICAÇÃO|\n",
    "| -- | -- |\n",
    "| MC |A Média de Conclusão (MC) é a media do rendimento escolar final obtido pelo aluno nos componentes curriculares em que obteve êxito, ponderadas pela carga horária discente dos componentes.|\n",
    "|IRA| \tO Índice de Rendimento Acadêmico (IRA) é a média do rendimento escolar final obtido pelo aluno nos componentes curriculares que concluiu, ponderadas pela carga horária discente dos componentes.|\n",
    "|IECH| \tO Índice de Eficiência em Carga Horária (IECH) é divisão da carga horária com aprovação pela carga horária utilizada.|\n",
    "|IEPL| \tO Índice de Eficiência em Períodos Letivos (IEPL) é divisão da carga horária acumulada pela carga horária esperada.|\n",
    "|IEA| \tO Índice de Eficiência Acadêmica (IEA) é o produto da MC pelo IECH e pelo IEPL.|\n",
    "|IECHS| \tO Índice de Eficiência em Carga Horária Semestral (IECHs) é o percentual da carga horária utilizada pelo discente que se converteu em aprovação no semestre anterior.|"
   ]
  },
  {
   "cell_type": "markdown",
   "metadata": {},
   "source": [
    "**Índice de Eficiência em Carga Horária (IECH):** \\\n",
    "visa indicar o percentual da carga horária dos componentes curriculares em que o discente consegue aprovação. Esse índice é usado para definir a carga horária máxima em que um discente pode se matricular; \\\n",
    "\n",
    "**Índice de Eficiência em Períodos Letivos (IEPL):** \\\n",
    "visa indicar o percentual da carga realizada pela carga esperada de um discente nos períodos do seu curso. Desta forma, mostra se o discente está em fase ou atrasado em relação ao tempo mínimo de conclusão do curso;\n",
    "\n",
    "**Índice de Eficiência Acadêmica (IEA):** \\\n",
    "índice global de eficiência do discente, formado pela multiplicação dos índices anteriores. Usado como critério de prioridade, observado o disposto da norma, para a matrícula em componentes curriculares, o qual já estará vigente para o primeiro período de 2016. Esse índice também é usado para desligamento do discente, sendo que não será aplicado em 2015 e começará a contar a partir do primeiro período de 2016. Dessa maneira, só poderá acontecer o desligamento em 2017;\n",
    "\n",
    "**Índice de Eficiência Acadêmica Normalizado (IEAN) e Média de Conclusão Normalizado (MCN):** \\\n",
    "normalização do MC e do IEA, respectivamente, que compara a média do aluno com a média das médias dos concluintes do curso nos últimos cinco anos. Tem o objetivo de verificar os índices dos discentes com turmas do mesmo curso por um período histórico de cinco anos.\n"
   ]
  },
  {
   "cell_type": "markdown",
   "metadata": {},
   "source": [
    "---\n",
    "**Média de Conclusão (MC)** \\\n",
    "\n",
    "A Média de Conclusão (MC) é a média ponderada do rendimento escolar final nos componentes curriculares em que conseguiu êxito ao longo do curso, obtida pela seguinte fórmula: \\\n",
    "\n",
    "![image.png](formulaMC.png) \\\n",
    "\n",
    "Nessa fórmula, são contabilizados todos os Nx componentes curriculares concluídos com êxito, incluindo os aproveitamentos, onde ni é a nota (rendimento escolar) final obtida no i-ésimo componente curricular e ci é a carga horária discente do i-ésimo componente curricular. São excluídos do cálculo os componentes curriculares trancados, cancelados, reprovados e dispensados, as atividades complementares e os componentes curriculares cujo rendimento escolar não é expresso de forma numérica."
   ]
  },
  {
   "cell_type": "markdown",
   "metadata": {},
   "source": [
    "---\n",
    "**Média de Conclusão Normalizada (MCN)**\n",
    " \n",
    "\n",
    "A Média de Conclusão Normalizada (MCN) é a MC do aluno normalizada em relação à média (μ) e desvio padrão amostral (σ) das MCs dos concluintes da mesma modalidade do curso, obtida pela seguinte fórmula:\n",
    "\n",
    "![image.png](formulaMCN1.png) \\\n",
    "Nessa fórmula, MC é a Média de Conclusão do aluno para o qual está sendo calculada a MCN. A média (μ) e desvio padrão amostral (σ) são calculados pela seguinte fórmula:\n",
    "![image.png](formulaMCN2.png) \\\n",
    "Nessas fórmulas, são contabilizados todos os M alunos que concluíram o mesmo curso/modalidade nos últimos 05 (cinco) anos, onde MCi é a Média de Conclusão final obtida pelo i-ésimo concluinte. São excluídos do cálculo os alunos que não concluíram com êxito o curso por qualquer motivo bem como aqueles que fizeram apenas apostilamento de habilitação ou certificação de ênfase."
   ]
  },
  {
   "cell_type": "markdown",
   "metadata": {},
   "source": [
    "---\n",
    "**Índice de Rendimento Acadêmico (IRA)**\n",
    " \n",
    "\n",
    "O Índice de Rendimento Acadêmico (IRA) é a média ponderada do rendimento escolar final obtido pelo aluno em todos os componentes curriculares que concluiu ao longo do curso, obtida pela seguinte fórmula:\n",
    "\n",
    "![image.png](formulaIRA.png) \n",
    "\n",
    "Nessa fórmula, são contabilizados todos os N componentes curriculares concluídos, seja com aprovação ou com reprovação por nota ou frequência, onde ni é a nota (rendimento escolar) final obtida no i-ésimo componente curricular e ci é a carga horária discente do i-ésimo componente curricular. São excluídos do cálculo os componentes curriculares trancados, cancelados e dispensados, as atividades complementares e os componentes curriculares cujo rendimento escolar não é expresso de forma numérica."
   ]
  },
  {
   "cell_type": "markdown",
   "metadata": {},
   "source": [
    "---\n",
    "**Índice de Eficiência em Carga Horária (IECH)**\n",
    " \n",
    "\n",
    "O Índice de Eficiência em Carga Horária (IECH) é o percentual da carga horária utilizada pelo aluno que se converteu em aprovação, obtido pela seguinte fórmula:\n",
    "\n",
    "![](formulaIECH.png)\n",
    "\n",
    "\n",
    "Nessa fórmula, são contabilizados no numerador todos os Np componentes curriculares em que o aluno obteve aprovação, excluindo-se os componentes curriculares trancados, cancelados, reprovados, aproveitados e dispensados, as atividades complementares, as atividades individuais e as atividades de orientação individual. São contabilizados no denominador todos os Nm componentes curriculares em que o aluno se matriculou, incluindo os trancamentos, reprovações e cancelamentos de matrícula e excluindo-se os componentes curriculares aproveitados e dispensados, as atividades complementares, as atividades individuais e as atividades de orientação individual. ci é a carga horária discente do i-ésimo componente curricular."
   ]
  },
  {
   "cell_type": "markdown",
   "metadata": {},
   "source": [
    "---\n",
    "**Índice de Eficiência em Períodos Letivos (IEPL)**\n",
    " \n",
    "\n",
    "O Índice de Eficiência em Períodos Letivos (IEPL) é divisão da carga horária acumulada pela carga horária esperada, obtida pela seguinte fórmula:\n",
    "\n",
    "![](formulaIEPL.png)\n",
    "\n",
    "\n",
    "Nessa fórmula, são contabilizados todos os Na componentes curriculares em que o aluno acumulou carga horária depois que ingressou no curso de graduação, excluindo-se os componentes curriculares aproveitados. ci é a carga horária discente do i-ésimo componente curricular. P é o número de períodos já cursados pelo aluno. CHM e PM são a carga horária mínima e o prazo médio, respectivamente, para integralização da estrutura curricular do aluno."
   ]
  },
  {
   "cell_type": "markdown",
   "metadata": {},
   "source": [
    "---\n",
    "**Índice de Eficiência Acadêmica (IEA)**\n",
    " \n",
    "\n",
    "O Índice de Eficiência Acadêmica (IEA) é o produto da MC pelo IECH e pelo IEPL, conforme a seguinte fórmula:\n",
    " \n",
    "\n",
    "IEA = MC × IECH × IEPL\n",
    " \n",
    "\n",
    "Índice de Eficiência Acadêmica Normalizado (IEAN)\n",
    " \n",
    "\n",
    "O Índice de Eficiência Acadêmica Normalizado (IEAN) é o produto da MCN pelo IECH e pelo IEPL, conforme a seguinte fórmula:\n",
    " \n",
    "\n",
    "IEAN = MCN × IECH × IEPL"
   ]
  }
 ],
 "metadata": {
  "kernelspec": {
   "display_name": "base",
   "language": "python",
   "name": "python3"
  },
  "language_info": {
   "codemirror_mode": {
    "name": "ipython",
    "version": 3
   },
   "file_extension": ".py",
   "mimetype": "text/x-python",
   "name": "python",
   "nbconvert_exporter": "python",
   "pygments_lexer": "ipython3",
   "version": "3.11.5"
  }
 },
 "nbformat": 4,
 "nbformat_minor": 2
}
